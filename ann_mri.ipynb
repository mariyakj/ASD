{
  "cells": [
    {
      "cell_type": "markdown",
      "metadata": {
        "id": "view-in-github",
        "colab_type": "text"
      },
      "source": [
        "<a href=\"https://colab.research.google.com/github/mariyakj/ASD/blob/main/ann_mri.ipynb\" target=\"_parent\"><img src=\"https://colab.research.google.com/assets/colab-badge.svg\" alt=\"Open In Colab\"/></a>"
      ]
    },
    {
      "cell_type": "code",
      "execution_count": 2,
      "metadata": {
        "colab": {
          "base_uri": "https://localhost:8080/"
        },
        "id": "lsspOCp6mhf9",
        "outputId": "211726f2-da9b-4ae9-cbec-e7df4ce1e1e6"
      },
      "outputs": [
        {
          "output_type": "stream",
          "name": "stdout",
          "text": [
            "Drive already mounted at /content/drive; to attempt to forcibly remount, call drive.mount(\"/content/drive\", force_remount=True).\n"
          ]
        }
      ],
      "source": [
        "# Mount Google Drive if your data is stored there\n",
        "from google.colab import drive\n",
        "drive.mount('/content/drive')"
      ]
    },
    {
      "cell_type": "markdown",
      "metadata": {
        "id": "npHs-UD7HrtX"
      },
      "source": []
    },
    {
      "cell_type": "code",
      "source": [
        "import tensorflow as tf\n",
        "from tensorflow.keras.preprocessing.image import ImageDataGenerator\n",
        "from tensorflow.keras.models import Sequential\n",
        "from tensorflow.keras.layers import Flatten, Dense, Dropout\n",
        "from tensorflow.keras.optimizers import Adam\n",
        "from tensorflow.keras.callbacks import EarlyStopping, ReduceLROnPlateau\n",
        "\n",
        "# Mount Google Drive if your data is stored there\n",
        "from google.colab import drive\n",
        "drive.mount('/content/drive')\n",
        "\n",
        "# Define paths to your training and validation datasets\n",
        "train_data_dir = '/content/drive/MyDrive/autism mri/Training'\n",
        "val_data_dir = '/content/drive/MyDrive/autism mri/Testing'\n",
        "\n",
        "# Parameters\n",
        "img_width, img_height = 150, 150\n",
        "batch_size = 32\n",
        "epochs = 50 # Increase the number of epochs\n",
        "\n",
        "# Data Augmentation\n",
        "train_datagen = ImageDataGenerator(\n",
        "rescale=1./255,\n",
        "shear_range=0.2,\n",
        "zoom_range=0.2,\n",
        "horizontal_flip=True\n",
        ")\n",
        "val_datagen = ImageDataGenerator(rescale=1./255)\n",
        "\n",
        "# Load and preprocess training data\n",
        "train_generator = train_datagen.flow_from_directory(\n",
        "train_data_dir,\n",
        "target_size=(img_width, img_height),\n",
        "batch_size=batch_size,\n",
        "class_mode='binary'\n",
        ")\n",
        "\n",
        "# Load and preprocess validation data\n",
        "val_generator = val_datagen.flow_from_directory(\n",
        "val_data_dir,\n",
        "target_size=(img_width, img_height),\n",
        "batch_size=batch_size,\n",
        "class_mode='binary'\n",
        ")\n",
        "\n",
        "# ANN Model\n",
        "ann_model = Sequential()\n",
        "\n",
        "# Flatten layer\n",
        "ann_model.add(Flatten(input_shape=(img_width, img_height, 3)))\n",
        "\n",
        "# Dense layers\n",
        "ann_model.add(Dense(256, activation='relu'))\n",
        "ann_model.add(Dropout(0.5)) # Dropout for regularization\n",
        "ann_model.add(Dense(128, activation='relu'))\n",
        "ann_model.add(Dense(64, activation='relu'))\n",
        "ann_model.add(Dense(1, activation='sigmoid'))\n",
        "\n",
        "# Compile the model\n",
        "ann_model.compile(optimizer=Adam(lr=0.0001), loss='binary_crossentropy', metrics=['accuracy'])\n",
        "\n",
        "# Print model summary\n",
        "ann_model.summary()\n",
        "\n",
        "# Define callbacks\n",
        "early_stopping = EarlyStopping(monitor='val_loss', patience=5, restore_best_weights=True)\n",
        "reduce_lr = ReduceLROnPlateau(monitor='val_loss', factor=0.2, patience=3, min_lr=0.00001)\n",
        "\n",
        "# Train the ANN model\n",
        "history = ann_model.fit(train_generator,\n",
        "steps_per_epoch=len(train_generator),\n",
        "epochs=epochs,\n",
        "validation_data=val_generator,\n",
        "validation_steps=len(val_generator),\n",
        "callbacks=[early_stopping, reduce_lr])\n",
        "\n",
        "# Save the trained model to an HDF5 file\n",
        "ann_model.save('/content/drive/MyDrive/models/ann_mri_model_improved.h5')"
      ],
      "metadata": {
        "colab": {
          "base_uri": "https://localhost:8080/"
        },
        "id": "lWkM7d0MW4JY",
        "outputId": "217a88c1-a2f6-4675-e0f3-0bcd14cf0970"
      },
      "execution_count": 3,
      "outputs": [
        {
          "output_type": "stream",
          "name": "stdout",
          "text": [
            "Drive already mounted at /content/drive; to attempt to forcibly remount, call drive.mount(\"/content/drive\", force_remount=True).\n",
            "Found 3167 images belonging to 2 classes.\n",
            "Found 760 images belonging to 2 classes.\n"
          ]
        },
        {
          "output_type": "stream",
          "name": "stderr",
          "text": [
            "WARNING:absl:`lr` is deprecated in Keras optimizer, please use `learning_rate` or use the legacy optimizer, e.g.,tf.keras.optimizers.legacy.Adam.\n"
          ]
        },
        {
          "output_type": "stream",
          "name": "stdout",
          "text": [
            "Model: \"sequential\"\n",
            "_________________________________________________________________\n",
            " Layer (type)                Output Shape              Param #   \n",
            "=================================================================\n",
            " flatten (Flatten)           (None, 67500)             0         \n",
            "                                                                 \n",
            " dense (Dense)               (None, 256)               17280256  \n",
            "                                                                 \n",
            " dropout (Dropout)           (None, 256)               0         \n",
            "                                                                 \n",
            " dense_1 (Dense)             (None, 128)               32896     \n",
            "                                                                 \n",
            " dense_2 (Dense)             (None, 64)                8256      \n",
            "                                                                 \n",
            " dense_3 (Dense)             (None, 1)                 65        \n",
            "                                                                 \n",
            "=================================================================\n",
            "Total params: 17321473 (66.08 MB)\n",
            "Trainable params: 17321473 (66.08 MB)\n",
            "Non-trainable params: 0 (0.00 Byte)\n",
            "_________________________________________________________________\n",
            "Epoch 1/50\n",
            "99/99 [==============================] - 606s 6s/step - loss: 1.7668 - accuracy: 0.6059 - val_loss: 0.3711 - val_accuracy: 0.8316 - lr: 0.0010\n",
            "Epoch 2/50\n",
            "99/99 [==============================] - 33s 331ms/step - loss: 0.5263 - accuracy: 0.7442 - val_loss: 0.3474 - val_accuracy: 0.8724 - lr: 0.0010\n",
            "Epoch 3/50\n",
            "99/99 [==============================] - 32s 328ms/step - loss: 0.4679 - accuracy: 0.7872 - val_loss: 0.4049 - val_accuracy: 0.9079 - lr: 0.0010\n",
            "Epoch 4/50\n",
            "99/99 [==============================] - 34s 339ms/step - loss: 0.4363 - accuracy: 0.8131 - val_loss: 0.2856 - val_accuracy: 0.9224 - lr: 0.0010\n",
            "Epoch 5/50\n",
            "99/99 [==============================] - 33s 335ms/step - loss: 0.4251 - accuracy: 0.8147 - val_loss: 0.2627 - val_accuracy: 0.9329 - lr: 0.0010\n",
            "Epoch 6/50\n",
            "99/99 [==============================] - 35s 357ms/step - loss: 0.3858 - accuracy: 0.8301 - val_loss: 0.2519 - val_accuracy: 0.9211 - lr: 0.0010\n",
            "Epoch 7/50\n",
            "99/99 [==============================] - 32s 327ms/step - loss: 0.4075 - accuracy: 0.8225 - val_loss: 0.3536 - val_accuracy: 0.8632 - lr: 0.0010\n",
            "Epoch 8/50\n",
            "99/99 [==============================] - 33s 332ms/step - loss: 0.3513 - accuracy: 0.8554 - val_loss: 0.2691 - val_accuracy: 0.9566 - lr: 0.0010\n",
            "Epoch 9/50\n",
            "99/99 [==============================] - 33s 330ms/step - loss: 0.3162 - accuracy: 0.8769 - val_loss: 0.2391 - val_accuracy: 0.9474 - lr: 0.0010\n",
            "Epoch 10/50\n",
            "99/99 [==============================] - 33s 329ms/step - loss: 0.3325 - accuracy: 0.8661 - val_loss: 0.2111 - val_accuracy: 0.9684 - lr: 0.0010\n",
            "Epoch 11/50\n",
            "99/99 [==============================] - 33s 333ms/step - loss: 0.3808 - accuracy: 0.8405 - val_loss: 0.3136 - val_accuracy: 0.8737 - lr: 0.0010\n",
            "Epoch 12/50\n",
            "99/99 [==============================] - 33s 332ms/step - loss: 0.4050 - accuracy: 0.8301 - val_loss: 0.2010 - val_accuracy: 0.9500 - lr: 0.0010\n",
            "Epoch 13/50\n",
            "99/99 [==============================] - 32s 328ms/step - loss: 0.4130 - accuracy: 0.8222 - val_loss: 0.2426 - val_accuracy: 0.9434 - lr: 0.0010\n",
            "Epoch 14/50\n",
            "99/99 [==============================] - 33s 331ms/step - loss: 0.3862 - accuracy: 0.8330 - val_loss: 0.2272 - val_accuracy: 0.9421 - lr: 0.0010\n",
            "Epoch 15/50\n",
            "99/99 [==============================] - 33s 332ms/step - loss: 0.3280 - accuracy: 0.8712 - val_loss: 0.2690 - val_accuracy: 0.9263 - lr: 0.0010\n",
            "Epoch 16/50\n",
            "99/99 [==============================] - 34s 347ms/step - loss: 0.2773 - accuracy: 0.8980 - val_loss: 0.2337 - val_accuracy: 0.9329 - lr: 2.0000e-04\n",
            "Epoch 17/50\n",
            "99/99 [==============================] - 33s 334ms/step - loss: 0.2798 - accuracy: 0.8983 - val_loss: 0.2245 - val_accuracy: 0.9342 - lr: 2.0000e-04\n"
          ]
        },
        {
          "output_type": "stream",
          "name": "stderr",
          "text": [
            "/usr/local/lib/python3.10/dist-packages/keras/src/engine/training.py:3103: UserWarning: You are saving your model as an HDF5 file via `model.save()`. This file format is considered legacy. We recommend using instead the native Keras format, e.g. `model.save('my_model.keras')`.\n",
            "  saving_api.save_model(\n"
          ]
        }
      ]
    },
    {
      "cell_type": "code",
      "source": [
        "import tensorflow as tf\n",
        "from tensorflow.keras.preprocessing import image\n",
        "import numpy as np\n",
        "\n",
        "# Mount Google Drive if your model is stored there\n",
        "from google.colab import drive\n",
        "drive.mount('/content/drive')\n",
        "\n",
        "# Define the path to your saved model\n",
        "saved_model_path = '/content/drive/MyDrive/models/ann_mri_model_improved.h5'\n",
        "\n",
        "# Load the model\n",
        "loaded_model = tf.keras.models.load_model(saved_model_path)\n",
        "\n",
        "# Define the path to the image you want to predict\n",
        "image_path = '/content/drive/MyDrive/autism mri/Testing/autistic/Te-pi_0278.jpg'\n",
        "\n",
        "# Load and preprocess the image\n",
        "img = image.load_img(image_path, target_size=(150, 150))\n",
        "img_array = image.img_to_array(img)\n",
        "img_array = np.expand_dims(img_array, axis=0) / 255.0  # Normalize the pixel values\n",
        "\n",
        "# Make the prediction\n",
        "prediction = loaded_model.predict(img_array)\n",
        "print(prediction[0][0]);\n",
        "# Interpret the prediction\n",
        "if prediction[0][0] < 0.5:\n",
        "    print(\"Prediction: Class 1 (Autistic)\")\n",
        "else:\n",
        "    print(\"Prediction: Class 0 (Non-autistic)\")"
      ],
      "metadata": {
        "colab": {
          "base_uri": "https://localhost:8080/"
        },
        "id": "4BxnGlUieKND",
        "outputId": "ea3f2fd5-7edd-41af-e161-b8c5e7b90bc2"
      },
      "execution_count": 4,
      "outputs": [
        {
          "output_type": "stream",
          "name": "stdout",
          "text": [
            "Drive already mounted at /content/drive; to attempt to forcibly remount, call drive.mount(\"/content/drive\", force_remount=True).\n",
            "1/1 [==============================] - 0s 59ms/step\n",
            "0.18632783\n",
            "Prediction: Class 1 (Autistic)\n"
          ]
        }
      ]
    },
    {
      "cell_type": "code",
      "source": [
        "import numpy as np\n",
        "from sklearn.metrics import classification_report, confusion_matrix\n",
        "\n",
        "# Load the validation data\n",
        "val_data_dir = '/content/drive/MyDrive/autism mri/Testing'\n",
        "val_datagen = ImageDataGenerator(rescale=1./255)\n",
        "val_generator = val_datagen.flow_from_directory(\n",
        "    val_data_dir,\n",
        "    target_size=(150, 150),\n",
        "    batch_size=1,  # Set batch size to 1 to ensure we get predictions for each sample\n",
        "    class_mode='binary',\n",
        "    shuffle=False  # Ensure that predictions match labels\n",
        ")\n",
        "\n",
        "# Make predictions for the validation set\n",
        "predictions = loaded_model.predict(val_generator)\n",
        "\n",
        "# Convert probabilities to class labels\n",
        "predicted_classes = np.where(predictions > 0.5, 1, 0)\n",
        "\n",
        "# Get true labels\n",
        "true_classes = val_generator.classes\n",
        "\n",
        "# Calculate metrics\n",
        "accuracy = np.mean(predicted_classes == true_classes)\n",
        "report = classification_report(true_classes, predicted_classes)\n",
        "conf_matrix = confusion_matrix(true_classes, predicted_classes)\n",
        "\n",
        "# Print metrics\n",
        "print(\"Accuracy:\", accuracy)\n",
        "print(\"\\nClassification Report:\")\n",
        "print(report)\n",
        "print(\"\\nConfusion Matrix:\")\n",
        "print(conf_matrix)\n"
      ],
      "metadata": {
        "colab": {
          "base_uri": "https://localhost:8080/"
        },
        "id": "Jy-JJ5NTgAU-",
        "outputId": "2d2e053e-260a-43d0-96f4-cfa04a464916"
      },
      "execution_count": null,
      "outputs": [
        {
          "output_type": "stream",
          "name": "stdout",
          "text": [
            "Found 760 images belonging to 2 classes.\n",
            "760/760 [==============================] - 13s 16ms/step\n",
            "Accuracy: 0.5066481994459834\n",
            "\n",
            "Classification Report:\n",
            "              precision    recall  f1-score   support\n",
            "\n",
            "           0       0.92      1.00      0.96       320\n",
            "           1       1.00      0.94      0.97       440\n",
            "\n",
            "    accuracy                           0.96       760\n",
            "   macro avg       0.96      0.97      0.96       760\n",
            "weighted avg       0.97      0.96      0.96       760\n",
            "\n",
            "\n",
            "Confusion Matrix:\n",
            "[[320   0]\n",
            " [ 28 412]]\n"
          ]
        }
      ]
    },
    {
      "cell_type": "code",
      "source": [
        "import matplotlib.pyplot as plt\n",
        "import seaborn as sns\n",
        "\n",
        "# Plot confusion matrix\n",
        "plt.figure(figsize=(8, 6))\n",
        "sns.heatmap(conf_matrix, annot=True, fmt='d', cmap='Blues', cbar=False)\n",
        "plt.title('Confusion Matrix')\n",
        "plt.xlabel('Predicted Labels')\n",
        "plt.ylabel('True Labels')\n",
        "plt.show()\n"
      ],
      "metadata": {
        "colab": {
          "base_uri": "https://localhost:8080/",
          "height": 564
        },
        "id": "VRRls0EOgOX7",
        "outputId": "8e920d13-f943-40c2-fb58-d1cf129ea89a"
      },
      "execution_count": null,
      "outputs": [
        {
          "output_type": "display_data",
          "data": {
            "text/plain": [
              "<Figure size 800x600 with 1 Axes>"
            ],
            "image/png": "[encoded data removed]"
          },
          "metadata": {}
        }
      ]
    }
  ],
  "metadata": {
    "accelerator": "GPU",
    "colab": {
      "gpuType": "T4",
      "provenance": [],
      "authorship_tag": "ABX9TyMgk2OMEzBRNnfxl76wI2un",
      "include_colab_link": true
    },
    "kernelspec": {
      "display_name": "Python 3",
      "name": "python3"
    },
    "language_info": {
      "name": "python"
    }
  },
  "nbformat": 4,
  "nbformat_minor": 0
}