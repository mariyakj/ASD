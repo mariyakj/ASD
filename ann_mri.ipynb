{
  "cells": [
    {
      "cell_type": "markdown",
      "metadata": {
        "id": "view-in-github",
        "colab_type": "text"
      },
      "source": [
        "<a href=\"https://colab.research.google.com/github/mariyakj/ASD/blob/main/ann_mri.ipynb\" target=\"_parent\"><img src=\"https://colab.research.google.com/assets/colab-badge.svg\" alt=\"Open In Colab\"/></a>"
      ]
    },
    {
      "cell_type": "code",
      "execution_count": null,
      "metadata": {
        "colab": {
          "base_uri": "https://localhost:8080/"
        },
        "id": "lsspOCp6mhf9",
        "outputId": "fe6200a8-26df-49bb-f90d-3038f2e38df5"
      },
      "outputs": [
        {
          "output_type": "stream",
          "name": "stdout",
          "text": [
            "Mounted at /content/drive\n"
          ]
        }
      ],
      "source": [
        "# Mount Google Drive if your data is stored there\n",
        "from google.colab import drive\n",
        "drive.mount('/content/drive')\n"
      ]
    },
    {
      "cell_type": "markdown",
      "metadata": {
        "id": "npHs-UD7HrtX"
      },
      "source": []
    },
    {
      "cell_type": "code",
      "execution_count": null,
      "metadata": {
        "colab": {
          "base_uri": "https://localhost:8080/"
        },
        "id": "lWkM7d0MW4JY",
        "outputId": "a46fa2d1-cb91-4a58-f572-52500a5b1f05"
      },
      "outputs": [
        {
          "output_type": "stream",
          "name": "stdout",
          "text": [
            "Drive already mounted at /content/drive; to attempt to forcibly remount, call drive.mount(\"/content/drive\", force_remount=True).\n",
            "Found 3167 images belonging to 2 classes.\n",
            "Found 760 images belonging to 2 classes.\n"
          ]
        },
        {
          "output_type": "stream",
          "name": "stderr",
          "text": [
            "WARNING:absl:`lr` is deprecated in Keras optimizer, please use `learning_rate` or use the legacy optimizer, e.g.,tf.keras.optimizers.legacy.Adam.\n"
          ]
        },
        {
          "output_type": "stream",
          "name": "stdout",
          "text": [
            "Model: \"sequential\"\n",
            "_________________________________________________________________\n",
            " Layer (type)                Output Shape              Param #   \n",
            "=================================================================\n",
            " flatten (Flatten)           (None, 67500)             0         \n",
            "                                                                 \n",
            " dense (Dense)               (None, 256)               17280256  \n",
            "                                                                 \n",
            " dropout (Dropout)           (None, 256)               0         \n",
            "                                                                 \n",
            " dense_1 (Dense)             (None, 128)               32896     \n",
            "                                                                 \n",
            " dense_2 (Dense)             (None, 64)                8256      \n",
            "                                                                 \n",
            " dense_3 (Dense)             (None, 1)                 65        \n",
            "                                                                 \n",
            "=================================================================\n",
            "Total params: 17321473 (66.08 MB)\n",
            "Trainable params: 17321473 (66.08 MB)\n",
            "Non-trainable params: 0 (0.00 Byte)\n",
            "_________________________________________________________________\n",
            "Epoch 1/50\n",
            "99/99 [==============================] - 678s 7s/step - loss: 1.6972 - accuracy: 0.5936 - val_loss: 0.4474 - val_accuracy: 0.8395 - lr: 0.0010\n",
            "Epoch 2/50\n",
            "99/99 [==============================] - 76s 764ms/step - loss: 0.5197 - accuracy: 0.7427 - val_loss: 0.3923 - val_accuracy: 0.8842 - lr: 0.0010\n",
            "Epoch 3/50\n",
            "99/99 [==============================] - 76s 764ms/step - loss: 0.4636 - accuracy: 0.7872 - val_loss: 0.3414 - val_accuracy: 0.9289 - lr: 0.0010\n",
            "Epoch 4/50\n",
            "99/99 [==============================] - 76s 770ms/step - loss: 0.4280 - accuracy: 0.8128 - val_loss: 0.2809 - val_accuracy: 0.9250 - lr: 0.0010\n",
            "Epoch 5/50\n",
            "99/99 [==============================] - 76s 766ms/step - loss: 0.4256 - accuracy: 0.8099 - val_loss: 0.3637 - val_accuracy: 0.8776 - lr: 0.0010\n",
            "Epoch 6/50\n",
            "99/99 [==============================] - 75s 760ms/step - loss: 0.4095 - accuracy: 0.8304 - val_loss: 0.2348 - val_accuracy: 0.9461 - lr: 0.0010\n",
            "Epoch 7/50\n",
            "99/99 [==============================] - 77s 777ms/step - loss: 0.3747 - accuracy: 0.8409 - val_loss: 0.2148 - val_accuracy: 0.9408 - lr: 0.0010\n",
            "Epoch 8/50\n",
            "99/99 [==============================] - 76s 763ms/step - loss: 0.3835 - accuracy: 0.8345 - val_loss: 0.3256 - val_accuracy: 0.8618 - lr: 0.0010\n",
            "Epoch 9/50\n",
            "99/99 [==============================] - 76s 772ms/step - loss: 0.4412 - accuracy: 0.8039 - val_loss: 0.2236 - val_accuracy: 0.9447 - lr: 0.0010\n",
            "Epoch 10/50\n",
            "99/99 [==============================] - 76s 766ms/step - loss: 0.3514 - accuracy: 0.8589 - val_loss: 0.2261 - val_accuracy: 0.9566 - lr: 0.0010\n",
            "Epoch 11/50\n",
            "99/99 [==============================] - 77s 772ms/step - loss: 0.3167 - accuracy: 0.8863 - val_loss: 0.2471 - val_accuracy: 0.9474 - lr: 2.0000e-04\n",
            "Epoch 12/50\n",
            "99/99 [==============================] - 82s 823ms/step - loss: 0.2910 - accuracy: 0.8942 - val_loss: 0.2189 - val_accuracy: 0.9526 - lr: 2.0000e-04\n"
          ]
        },
        {
          "output_type": "stream",
          "name": "stderr",
          "text": [
            "/usr/local/lib/python3.10/dist-packages/keras/src/engine/training.py:3103: UserWarning: You are saving your model as an HDF5 file via `model.save()`. This file format is considered legacy. We recommend using instead the native Keras format, e.g. `model.save('my_model.keras')`.\n",
            "  saving_api.save_model(\n"
          ]
        }
      ],
      "source": [
        "import tensorflow as tf\n",
        "from tensorflow.keras.preprocessing.image import ImageDataGenerator\n",
        "from tensorflow.keras.models import Sequential\n",
        "from tensorflow.keras.layers import Flatten, Dense, Dropout\n",
        "from tensorflow.keras.optimizers import Adam\n",
        "from tensorflow.keras.callbacks import EarlyStopping, ReduceLROnPlateau\n",
        "\n",
        "# Mount Google Drive if your data is stored there\n",
        "from google.colab import drive\n",
        "drive.mount('/content/drive')\n",
        "\n",
        "# Define paths to your training and validation datasets\n",
        "train_data_dir = '/content/drive/MyDrive/autism mri/Training'\n",
        "val_data_dir = '/content/drive/MyDrive/autism mri/Testing'\n",
        "\n",
        "# Parameters\n",
        "img_width, img_height = 150, 150\n",
        "batch_size = 32\n",
        "epochs = 50 # Increase the number of epochs\n",
        "\n",
        "# Data Augmentation\n",
        "train_datagen = ImageDataGenerator(\n",
        "rescale=1./255,\n",
        "shear_range=0.2,\n",
        "zoom_range=0.2,\n",
        "horizontal_flip=True\n",
        ")\n",
        "val_datagen = ImageDataGenerator(rescale=1./255)\n",
        "\n",
        "# Load and preprocess training data\n",
        "train_generator = train_datagen.flow_from_directory(\n",
        "train_data_dir,\n",
        "target_size=(img_width, img_height),\n",
        "batch_size=batch_size,\n",
        "class_mode='binary'\n",
        ")\n",
        "\n",
        "# Load and preprocess validation data\n",
        "val_generator = val_datagen.flow_from_directory(\n",
        "val_data_dir,\n",
        "target_size=(img_width, img_height),\n",
        "batch_size=batch_size,\n",
        "class_mode='binary'\n",
        ")\n",
        "\n",
        "# ANN Model\n",
        "ann_model = Sequential()\n",
        "\n",
        "# Flatten layer\n",
        "ann_model.add(Flatten(input_shape=(img_width, img_height, 3)))\n",
        "\n",
        "# Dense layers\n",
        "ann_model.add(Dense(256, activation='relu'))\n",
        "ann_model.add(Dropout(0.5)) # Dropout for regularization\n",
        "ann_model.add(Dense(128, activation='relu'))\n",
        "ann_model.add(Dense(64, activation='relu'))\n",
        "ann_model.add(Dense(1, activation='sigmoid'))\n",
        "\n",
        "# Compile the model\n",
        "ann_model.compile(optimizer=Adam(lr=0.0001), loss='binary_crossentropy', metrics=['accuracy'])\n",
        "\n",
        "# Print model summary\n",
        "ann_model.summary()\n",
        "\n",
        "# Define callbacks\n",
        "early_stopping = EarlyStopping(monitor='val_loss', patience=5, restore_best_weights=True)\n",
        "reduce_lr = ReduceLROnPlateau(monitor='val_loss', factor=0.2, patience=3, min_lr=0.00001)\n",
        "\n",
        "# Train the ANN model\n",
        "history = ann_model.fit(train_generator,\n",
        "steps_per_epoch=len(train_generator),\n",
        "epochs=epochs,\n",
        "validation_data=val_generator,\n",
        "validation_steps=len(val_generator),\n",
        "callbacks=[early_stopping, reduce_lr])\n",
        "\n",
        "# Save the trained model to an HDF5 file\n",
        "ann_model.save('/content/drive/MyDrive/models/ann_mri_model_improved.h5')"
      ]
    },
    {
      "cell_type": "code",
      "execution_count": null,
      "metadata": {
        "id": "4BxnGlUieKND",
        "colab": {
          "base_uri": "https://localhost:8080/"
        },
        "outputId": "e9cbeca8-e1cf-4beb-aec9-231449645f1d"
      },
      "outputs": [
        {
          "output_type": "stream",
          "name": "stdout",
          "text": [
            "Drive already mounted at /content/drive; to attempt to forcibly remount, call drive.mount(\"/content/drive\", force_remount=True).\n",
            "1/1 [==============================] - 0s 445ms/step\n",
            "0.26447096\n",
            "Prediction: Class 1 (Autistic)\n"
          ]
        }
      ],
      "source": [
        "import tensorflow as tf\n",
        "from tensorflow.keras.preprocessing import image\n",
        "import numpy as np\n",
        "\n",
        "# Mount Google Drive if your model is stored there\n",
        "from google.colab import drive\n",
        "drive.mount('/content/drive')\n",
        "\n",
        "# Define the path to your saved model\n",
        "saved_model_path = '/content/drive/MyDrive/models/ann_mri_model_improved.h5'\n",
        "\n",
        "# Load the model\n",
        "loaded_model = tf.keras.models.load_model(saved_model_path)\n",
        "\n",
        "# Define the path to the image you want to predict\n",
        "image_path = '/content/drive/MyDrive/autism mri/Testing/autistic/Te-pi_0278.jpg'\n",
        "\n",
        "# Load and preprocess the image\n",
        "img = image.load_img(image_path, target_size=(150, 150))\n",
        "img_array = image.img_to_array(img)\n",
        "img_array = np.expand_dims(img_array, axis=0) / 255.0  # Normalize the pixel values\n",
        "\n",
        "# Make the prediction\n",
        "prediction = loaded_model.predict(img_array)\n",
        "print(prediction[0][0]);\n",
        "# Interpret the prediction\n",
        "if prediction[0][0] < 0.5:\n",
        "    print(\"Prediction: Class 1 (Autistic)\")\n",
        "else:\n",
        "    print(\"Prediction: Class 0 (Non-autistic)\")"
      ]
    },
    {
      "cell_type": "code",
      "execution_count": null,
      "metadata": {
        "colab": {
          "base_uri": "https://localhost:8080/"
        },
        "id": "Jy-JJ5NTgAU-",
        "outputId": "a66c438a-f74d-4e5f-f862-3e604a029e0d"
      },
      "outputs": [
        {
          "output_type": "stream",
          "name": "stdout",
          "text": [
            "Found 760 images belonging to 2 classes.\n",
            "760/760 [==============================] - 14s 18ms/step\n",
            "Accuracy: 0.5155817174515236\n",
            "\n",
            "Classification Report:\n",
            "              precision    recall  f1-score   support\n",
            "\n",
            "           0       0.95      0.91      0.93       320\n",
            "           1       0.93      0.97      0.95       440\n",
            "\n",
            "    accuracy                           0.94       760\n",
            "   macro avg       0.94      0.94      0.94       760\n",
            "weighted avg       0.94      0.94      0.94       760\n",
            "\n",
            "\n",
            "Confusion Matrix:\n",
            "[[290  30]\n",
            " [ 15 425]]\n"
          ]
        }
      ],
      "source": [
        "\n",
        "import numpy as np\n",
        "from sklearn.metrics import classification_report, confusion_matrix\n",
        "\n",
        "# Load the validation data\n",
        "val_data_dir = '/content/drive/MyDrive/autism mri/Testing'\n",
        "val_datagen = ImageDataGenerator(rescale=1./255)\n",
        "val_generator = val_datagen.flow_from_directory(\n",
        "    val_data_dir,\n",
        "    target_size=(150, 150),\n",
        "    batch_size=1,  # Set batch size to 1 to ensure we get predictions for each sample\n",
        "    class_mode='binary',\n",
        "    shuffle=False  # Ensure that predictions match labels\n",
        ")\n",
        "\n",
        "# Make predictions for the validation set\n",
        "predictions = loaded_model.predict(val_generator)\n",
        "\n",
        "# Convert probabilities to class labels\n",
        "predicted_classes = np.where(predictions > 0.5, 1, 0)\n",
        "\n",
        "# Get true labels\n",
        "true_classes = val_generator.classes\n",
        "\n",
        "# Calculate metrics\n",
        "\n",
        "report = classification_report(true_classes, predicted_classes)\n",
        "conf_matrix = confusion_matrix(true_classes, predicted_classes)\n",
        "\n",
        "print(\"\\nClassification Report:\")\n",
        "print(report)\n",
        "print(\"\\nConfusion Matrix:\")\n",
        "print(conf_matrix)\n"
      ]
    },
    {
      "cell_type": "code",
      "execution_count": null,
      "metadata": {
        "id": "VRRls0EOgOX7",
        "colab": {
          "base_uri": "https://localhost:8080/",
          "height": 540
        },
        "outputId": "0df31313-d11b-4ac9-be24-22ff49ad801d"
      },
      "outputs": [
        {
          "output_type": "display_data",
          "data": {
            "text/plain": [
              "<Figure size 800x600 with 1 Axes>"
            ],
            "image/png": "[encoded data removed]"
          },
          "metadata": {}
        }
      ],
      "source": [
        "import matplotlib.pyplot as plt\n",
        "import seaborn as sns\n",
        "\n",
        "# Plot confusion matrix\n",
        "plt.figure(figsize=(8, 6))\n",
        "sns.heatmap(conf_matrix, annot=True, fmt='d', cmap='Blues', cbar=False,xticklabels=False, yticklabels=False)\n",
        "plt.title('Confusion Matrix')\n",
        "plt.xlabel('Predicted Labels')\n",
        "plt.ylabel('True Labels')\n",
        "plt.show()\n"
      ]
    },
    {
      "cell_type": "code",
      "execution_count": null,
      "metadata": {
        "id": "iflslIixQvju",
        "colab": {
          "base_uri": "https://localhost:8080/"
        },
        "outputId": "bbcddfaa-f723-41d3-8a16-57c98e8eb84a"
      },
      "outputs": [
        {
          "output_type": "stream",
          "name": "stdout",
          "text": [
            "760/760 [==============================] - 20s 26ms/step\n",
            "Testing Accuracy: 0.9408\n",
            "Precision: 0.9341\n",
            "Recall: 0.9659\n",
            "F1-score: 0.9497\n"
          ]
        }
      ],
      "source": [
        "import tensorflow as tf\n",
        "import numpy as np\n",
        "from sklearn.metrics import accuracy_score, precision_score, recall_score, f1_score\n",
        "\n",
        "# Load the saved model\n",
        "saved_model_path = '/content/drive/MyDrive/models/ann_mri_model_improved.h5'\n",
        "loaded_model = tf.keras.models.load_model(saved_model_path)\n",
        "\n",
        "# Make predictions on test data\n",
        "test_predictions = loaded_model.predict(val_generator)\n",
        "\n",
        "# Convert probabilities to binary labels\n",
        "test_pred_labels = np.where(test_predictions > 0.5, 1, 0)\n",
        "\n",
        "# Retrieve true labels from the generator\n",
        "true_labels = val_generator.classes\n",
        "\n",
        "# Calculate evaluation metrics\n",
        "testing_accuracy = accuracy_score(true_labels, test_pred_labels)\n",
        "precision = precision_score(true_labels, test_pred_labels)\n",
        "recall = recall_score(true_labels, test_pred_labels)\n",
        "f1 = f1_score(true_labels, test_pred_labels)\n",
        "\n",
        "print(f\"Testing Accuracy: {testing_accuracy:.4f}\")\n",
        "print(f\"Precision: {precision:.4f}\")\n",
        "print(f\"Recall: {recall:.4f}\")\n",
        "print(f\"F1-score: {f1:.4f}\")\n"
      ]
    }
  ],
  "metadata": {
    "accelerator": "GPU",
    "colab": {
      "gpuType": "T4",
      "provenance": [],
      "authorship_tag": "ABX9TyPFO4Q95yZ5RpZFEaMIRFux",
      "include_colab_link": true
    },
    "kernelspec": {
      "display_name": "Python 3",
      "name": "python3"
    },
    "language_info": {
      "name": "python"
    }
  },
  "nbformat": 4,
  "nbformat_minor": 0
}