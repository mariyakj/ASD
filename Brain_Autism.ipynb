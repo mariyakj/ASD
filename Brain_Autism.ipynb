{
  "nbformat": 4,
  "nbformat_minor": 0,
  "metadata": {
    "colab": {
      "provenance": [],
      "authorship_tag": "ABX9TyOGMiDkFSxOMT3ZdyptG5BT",
      "include_colab_link": true
    },
    "kernelspec": {
      "name": "python3",
      "display_name": "Python 3"
    },
    "language_info": {
      "name": "python"
    }
  },
  "cells": [
    {
      "cell_type": "markdown",
      "metadata": {
        "id": "view-in-github",
        "colab_type": "text"
      },
      "source": [
        "<a href=\"https://colab.research.google.com/github/mariyakj/ASD/blob/main/Brain_Autism.ipynb\" target=\"_parent\"><img src=\"https://colab.research.google.com/assets/colab-badge.svg\" alt=\"Open In Colab\"/></a>"
      ]
    },
    {
      "cell_type": "code",
      "execution_count": null,
      "metadata": {
        "id": "gZVbDUEpHVix"
      },
      "outputs": [],
      "source": [
        "import tensorflow as tf\n",
        "from tensorflow.keras.preprocessing.image import ImageDataGenerator\n",
        "from tensorflow.keras.models import Sequential\n",
        "from tensorflow.keras.layers import Conv2D, MaxPooling2D, Flatten, Dense"
      ]
    },
    {
      "cell_type": "code",
      "source": [
        "# Mount Google Drive if your data is stored there\n",
        "from google.colab import drive\n",
        "drive.mount('/content/drive')"
      ],
      "metadata": {
        "colab": {
          "base_uri": "https://localhost:8080/"
        },
        "id": "DODuBN5mHqxl",
        "outputId": "2c02bd1c-16ba-47ae-edc6-bd4d4b6c3c97"
      },
      "execution_count": null,
      "outputs": [
        {
          "output_type": "stream",
          "name": "stdout",
          "text": [
            "Mounted at /content/drive\n"
          ]
        }
      ]
    },
    {
      "cell_type": "code",
      "source": [
        "\n",
        "# Define paths to your training and validation datasets\n",
        "train_data_dir = '/content/drive/My Drive/mri sample/random train'\n",
        "val_data_dir = '/content/drive/My Drive/mri sample/random test'"
      ],
      "metadata": {
        "id": "61ITqO43HuQ9"
      },
      "execution_count": null,
      "outputs": []
    },
    {
      "cell_type": "code",
      "source": [
        "# Parameters\n",
        "img_width, img_height = 150, 150\n",
        "batch_size = 32\n",
        "\n",
        "# Data Augmentation\n",
        "train_datagen = ImageDataGenerator(\n",
        "    rescale=1./255,\n",
        "    shear_range=0.2,\n",
        "    zoom_range=0.2,\n",
        "    horizontal_flip=True\n",
        ")\n"
      ],
      "metadata": {
        "id": "LvUQhmiyIK38"
      },
      "execution_count": null,
      "outputs": []
    },
    {
      "cell_type": "code",
      "source": [
        "val_datagen = ImageDataGenerator(rescale=1./255)\n",
        "\n",
        "# Load and preprocess training data\n",
        "train_generator = train_datagen.flow_from_directory(\n",
        "    train_data_dir,\n",
        "    target_size=(img_width, img_height),\n",
        "    batch_size=batch_size,\n",
        "    class_mode='binary'\n",
        ")\n",
        "\n",
        "# Load and preprocess validation data\n",
        "val_generator = val_datagen.flow_from_directory(\n",
        "    val_data_dir,\n",
        "    target_size=(img_width, img_height),\n",
        "    batch_size=batch_size,\n",
        "    class_mode='binary'\n",
        ")"
      ],
      "metadata": {
        "colab": {
          "base_uri": "https://localhost:8080/"
        },
        "id": "9NDpDlDZIMv9",
        "outputId": "0bdf125e-ba48-4ea7-f36a-c8449ed6d9c0"
      },
      "execution_count": null,
      "outputs": [
        {
          "output_type": "stream",
          "name": "stdout",
          "text": [
            "Found 960 images belonging to 2 classes.\n",
            "Found 297 images belonging to 2 classes.\n"
          ]
        }
      ]
    },
    {
      "cell_type": "code",
      "source": [
        "# Calculate the steps_per_epoch based on the length of the training generator and batch size\n",
        "steps_per_epoch_train = train_generator.samples // batch_size\n",
        "\n",
        "# Similarly, calculate the steps_per_epoch for the validation data\n",
        "steps_per_epoch_val = val_generator.samples // batch_size"
      ],
      "metadata": {
        "id": "js5CKMozLd2J"
      },
      "execution_count": null,
      "outputs": []
    },
    {
      "cell_type": "code",
      "source": [
        "\n",
        "# Build the CNN model\n",
        "model = Sequential()\n",
        "model.add(Conv2D(32, (3, 3), activation='relu', input_shape=(img_width, img_height, 3)))\n",
        "model.add(MaxPooling2D((2, 2)))\n",
        "model.add(Conv2D(64, (3, 3), activation='relu'))\n",
        "model.add(MaxPooling2D((2, 2)))\n",
        "model.add(Conv2D(128, (3, 3), activation='relu'))\n",
        "model.add(MaxPooling2D((2, 2)))\n",
        "model.add(Flatten())\n",
        "model.add(Dense(128, activation='relu'))\n",
        "model.add(Dense(1, activation='sigmoid'))\n"
      ],
      "metadata": {
        "id": "MbRJkmW3IVYN"
      },
      "execution_count": null,
      "outputs": []
    },
    {
      "cell_type": "code",
      "source": [
        "\n",
        "# Compile the model\n",
        "model.compile(optimizer='adam', loss='binary_crossentropy', metrics=['accuracy'])\n"
      ],
      "metadata": {
        "id": "A28BW2hSIav-"
      },
      "execution_count": null,
      "outputs": []
    },
    {
      "cell_type": "code",
      "source": [
        "# Train the model\n",
        "history = model.fit(\n",
        "    train_generator,\n",
        "    steps_per_epoch=steps_per_epoch_train,\n",
        "    epochs=10,\n",
        "    validation_data=val_generator,\n",
        "    validation_steps=3\n",
        ")"
      ],
      "metadata": {
        "colab": {
          "base_uri": "https://localhost:8080/"
        },
        "id": "zkmBdGvAIezV",
        "outputId": "0efc36eb-1535-463b-8f66-1ef391239ecc"
      },
      "execution_count": null,
      "outputs": [
        {
          "output_type": "stream",
          "name": "stdout",
          "text": [
            "Epoch 1/10\n",
            "30/30 [==============================] - 464s 15s/step - loss: 0.6963 - accuracy: 0.5979 - val_loss: 0.6108 - val_accuracy: 0.7604\n",
            "Epoch 2/10\n",
            "30/30 [==============================] - 94s 3s/step - loss: 0.5326 - accuracy: 0.7219 - val_loss: 0.3824 - val_accuracy: 0.8438\n",
            "Epoch 3/10\n",
            "30/30 [==============================] - 75s 3s/step - loss: 0.3676 - accuracy: 0.8271 - val_loss: 0.5923 - val_accuracy: 0.7188\n",
            "Epoch 4/10\n",
            "30/30 [==============================] - 71s 2s/step - loss: 0.2220 - accuracy: 0.9156 - val_loss: 0.1126 - val_accuracy: 0.9583\n",
            "Epoch 5/10\n",
            "30/30 [==============================] - 60s 2s/step - loss: 0.1458 - accuracy: 0.9302 - val_loss: 0.1010 - val_accuracy: 0.9271\n",
            "Epoch 6/10\n",
            "30/30 [==============================] - 55s 2s/step - loss: 0.0928 - accuracy: 0.9667 - val_loss: 0.0251 - val_accuracy: 1.0000\n",
            "Epoch 7/10\n",
            "30/30 [==============================] - 60s 2s/step - loss: 0.0657 - accuracy: 0.9760 - val_loss: 0.0073 - val_accuracy: 1.0000\n",
            "Epoch 8/10\n",
            "30/30 [==============================] - 55s 2s/step - loss: 0.0514 - accuracy: 0.9854 - val_loss: 0.0241 - val_accuracy: 1.0000\n",
            "Epoch 9/10\n",
            "30/30 [==============================] - 56s 2s/step - loss: 0.0726 - accuracy: 0.9698 - val_loss: 0.0054 - val_accuracy: 1.0000\n",
            "Epoch 10/10\n",
            "30/30 [==============================] - 54s 2s/step - loss: 0.0433 - accuracy: 0.9844 - val_loss: 0.0020 - val_accuracy: 1.0000\n"
          ]
        }
      ]
    },
    {
      "cell_type": "code",
      "source": [
        "\n",
        "# Save the trained model to an HDF5 file\n",
        "model.save('/content/drive/My Drive/models/my_model.h5')"
      ],
      "metadata": {
        "id": "TyhICyvoI855",
        "colab": {
          "base_uri": "https://localhost:8080/"
        },
        "outputId": "0c6f0cf8-231e-4c52-ef5a-3b994f206be3"
      },
      "execution_count": null,
      "outputs": [
        {
          "output_type": "stream",
          "name": "stderr",
          "text": [
            "/usr/local/lib/python3.10/dist-packages/keras/src/engine/training.py:3103: UserWarning: You are saving your model as an HDF5 file via `model.save()`. This file format is considered legacy. We recommend using instead the native Keras format, e.g. `model.save('my_model.keras')`.\n",
            "  saving_api.save_model(\n"
          ]
        }
      ]
    },
    {
      "cell_type": "code",
      "source": [
        "import tensorflow as tf\n",
        "from tensorflow.keras.preprocessing import image\n",
        "import numpy as np\n",
        "\n",
        "# Mount Google Drive if your model is stored there\n",
        "from google.colab import drive\n",
        "drive.mount('/content/drive')\n",
        "\n",
        "# Define the path to your saved model\n",
        "saved_model_path = '/content/drive/My Drive/models/my_model.h5'\n",
        "\n",
        "# Load the model\n",
        "loaded_model = tf.keras.models.load_model(saved_model_path)\n",
        "\n",
        "# Define the path to the image you want to predict\n",
        "image_path = '/content/drive/My Drive/mri sample/random test/random mri autism testing/Copy of Y116.JPG'\n",
        "\n",
        "# Load and preprocess the image\n",
        "img = image.load_img(image_path, target_size=(150, 150))\n",
        "img_array = image.img_to_array(img)\n",
        "img_array = np.expand_dims(img_array, axis=0) / 255.0  # Normalize the pixel values\n",
        "\n",
        "# Make the prediction\n",
        "prediction = loaded_model.predict(img_array)\n",
        "\n",
        "# Interpret the prediction\n",
        "if prediction[0][0] > 0.5:\n",
        "    print(\"Prediction: Class 1 (Yes)\")\n",
        "else:\n",
        "    print(\"Prediction: Class 0 (No)\")\n"
      ],
      "metadata": {
        "id": "if4SpOoiIrXj"
      },
      "execution_count": null,
      "outputs": []
    }
  ]
}