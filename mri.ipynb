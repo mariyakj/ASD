{
  "cells": [
    {
      "cell_type": "markdown",
      "metadata": {
        "id": "view-in-github",
        "colab_type": "text"
      },
      "source": [
        "<a href=\"https://colab.research.google.com/github/mariyakj/ASD/blob/main/mri.ipynb\" target=\"_parent\"><img src=\"https://colab.research.google.com/assets/colab-badge.svg\" alt=\"Open In Colab\"/></a>"
      ]
    },
    {
      "cell_type": "code",
      "execution_count": null,
      "metadata": {
        "id": "gZVbDUEpHVix"
      },
      "outputs": [],
      "source": [
        "import tensorflow as tf\n",
        "from tensorflow.keras.preprocessing.image import ImageDataGenerator\n",
        "from tensorflow.keras.models import Sequential\n",
        "from tensorflow.keras.layers import Conv2D, MaxPooling2D, Flatten, Dense\n"
      ]
    },
    {
      "cell_type": "code",
      "execution_count": null,
      "metadata": {
        "colab": {
          "base_uri": "https://localhost:8080/"
        },
        "id": "DODuBN5mHqxl",
        "outputId": "6aec94bc-0b76-459f-b381-fa8d1dcb0e54"
      },
      "outputs": [
        {
          "output_type": "stream",
          "name": "stdout",
          "text": [
            "Mounted at /content/drive\n"
          ]
        }
      ],
      "source": [
        "# Mount Google Drive if your data is stored there\n",
        "from google.colab import drive\n",
        "drive.mount('/content/drive')\n"
      ]
    },
    {
      "cell_type": "code",
      "execution_count": null,
      "metadata": {
        "id": "61ITqO43HuQ9"
      },
      "outputs": [],
      "source": [
        "\n",
        "# Define paths to your training and validation datasets\n",
        "train_data_dir = '/content/drive/MyDrive/autism mri/Training'\n",
        "val_data_dir = '/content/drive/MyDrive/autism mri/Testing'"
      ]
    },
    {
      "cell_type": "code",
      "execution_count": null,
      "metadata": {
        "id": "LvUQhmiyIK38"
      },
      "outputs": [],
      "source": [
        "# Parameters\n",
        "img_width, img_height = 150, 150\n",
        "batch_size = 32\n",
        "\n",
        "# Data Augmentation\n",
        "train_datagen = ImageDataGenerator(\n",
        "    rescale=1./255,\n",
        "    shear_range=0.2,\n",
        "    zoom_range=0.2,\n",
        "    horizontal_flip=True\n",
        ")\n"
      ]
    },
    {
      "cell_type": "code",
      "execution_count": null,
      "metadata": {
        "colab": {
          "base_uri": "https://localhost:8080/"
        },
        "id": "9NDpDlDZIMv9",
        "outputId": "ad2e8647-f32d-4879-b8f5-39c9a4713638"
      },
      "outputs": [
        {
          "output_type": "stream",
          "name": "stdout",
          "text": [
            "Found 3167 images belonging to 2 classes.\n",
            "Found 760 images belonging to 2 classes.\n"
          ]
        }
      ],
      "source": [
        "val_datagen = ImageDataGenerator(rescale=1./255)\n",
        "\n",
        "# Load and preprocess training data\n",
        "train_generator = train_datagen.flow_from_directory(\n",
        "    train_data_dir,\n",
        "    target_size=(img_width, img_height),\n",
        "    batch_size=batch_size,\n",
        "    class_mode='binary'\n",
        ")\n",
        "\n",
        "# Load and preprocess validation data\n",
        "val_generator = val_datagen.flow_from_directory(\n",
        "    val_data_dir,\n",
        "    target_size=(img_width, img_height),\n",
        "    batch_size=batch_size,\n",
        "    class_mode='binary'\n",
        ")"
      ]
    },
    {
      "cell_type": "code",
      "execution_count": null,
      "metadata": {
        "id": "js5CKMozLd2J"
      },
      "outputs": [],
      "source": [
        "# Calculate the steps_per_epoch based on the length of the training generator and batch size\n",
        "steps_per_epoch_train = train_generator.samples // batch_size\n",
        "\n",
        "# Similarly, calculate the steps_per_epoch for the validation data\n",
        "steps_per_epoch_val = val_generator.samples // batch_size"
      ]
    },
    {
      "cell_type": "code",
      "execution_count": null,
      "metadata": {
        "id": "MbRJkmW3IVYN"
      },
      "outputs": [],
      "source": [
        "\n",
        "# Build the CNN model\n",
        "model = Sequential()\n",
        "model.add(Conv2D(32, (3, 3), activation='relu', input_shape=(img_width, img_height, 3)))\n",
        "model.add(MaxPooling2D((2, 2)))\n",
        "model.add(Conv2D(64, (3, 3), activation='relu'))\n",
        "model.add(MaxPooling2D((2, 2)))\n",
        "model.add(Conv2D(128, (3, 3), activation='relu'))\n",
        "model.add(MaxPooling2D((2, 2)))\n",
        "model.add(Flatten())\n",
        "model.add(Dense(128, activation='relu'))\n",
        "model.add(Dense(1, activation='sigmoid'))\n",
        "\n"
      ]
    },
    {
      "cell_type": "code",
      "execution_count": null,
      "metadata": {
        "id": "A28BW2hSIav-"
      },
      "outputs": [],
      "source": [
        "\n",
        "# Compile the model\n",
        "model.compile(optimizer='adam', loss='binary_crossentropy', metrics=['accuracy'])\n"
      ]
    },
    {
      "cell_type": "code",
      "execution_count": null,
      "metadata": {
        "colab": {
          "base_uri": "https://localhost:8080/"
        },
        "id": "zkmBdGvAIezV",
        "outputId": "2f37567b-9c5f-4865-d64d-2dd3b01ede3d"
      },
      "outputs": [
        {
          "output_type": "stream",
          "name": "stdout",
          "text": [
            "Epoch 1/40\n",
            "98/98 [==============================] - 623s 6s/step - loss: 0.3361 - accuracy: 0.8354 - val_loss: 0.0561 - val_accuracy: 0.9792\n",
            "Epoch 2/40\n",
            "98/98 [==============================] - 208s 2s/step - loss: 0.0867 - accuracy: 0.9694 - val_loss: 0.0130 - val_accuracy: 1.0000\n",
            "Epoch 3/40\n",
            "98/98 [==============================] - 209s 2s/step - loss: 0.0648 - accuracy: 0.9770 - val_loss: 0.0296 - val_accuracy: 0.9896\n",
            "Epoch 4/40\n",
            "98/98 [==============================] - 191s 2s/step - loss: 0.0590 - accuracy: 0.9821 - val_loss: 0.0225 - val_accuracy: 0.9896\n",
            "Epoch 5/40\n",
            "98/98 [==============================] - ETA: 0s - loss: 0.0467 - accuracy: 0.9828Restoring model weights from the end of the best epoch: 2.\n",
            "98/98 [==============================] - 184s 2s/step - loss: 0.0467 - accuracy: 0.9828 - val_loss: 0.0182 - val_accuracy: 0.9896\n",
            "Epoch 5: early stopping\n"
          ]
        }
      ],
      "source": [
        "from keras.callbacks import EarlyStopping\n",
        "\n",
        "# Define early stopping criteria\n",
        "early_stop = EarlyStopping(monitor='val_loss', patience=3, verbose=1, restore_best_weights=True)\n",
        "\n",
        "# Train the model with early stopping\n",
        "history = model.fit(\n",
        "    train_generator,\n",
        "    steps_per_epoch=steps_per_epoch_train,\n",
        "    epochs=40,\n",
        "    validation_data=val_generator,\n",
        "    validation_steps=3,\n",
        "    callbacks=[early_stop]\n",
        ")\n"
      ]
    },
    {
      "cell_type": "code",
      "execution_count": null,
      "metadata": {
        "colab": {
          "base_uri": "https://localhost:8080/"
        },
        "id": "TyhICyvoI855",
        "outputId": "9244a6ed-1b12-48bd-c858-38a50ddd9c16"
      },
      "outputs": [
        {
          "output_type": "stream",
          "name": "stderr",
          "text": [
            "/usr/local/lib/python3.10/dist-packages/keras/src/engine/training.py:3103: UserWarning: You are saving your model as an HDF5 file via `model.save()`. This file format is considered legacy. We recommend using instead the native Keras format, e.g. `model.save('my_model.keras')`.\n",
            "  saving_api.save_model(\n"
          ]
        }
      ],
      "source": [
        "\n",
        "# Save the trained model to an HDF5 file\n",
        "model.save('/content/drive/MyDrive/models/mri_model.h5')"
      ]
    },
    {
      "cell_type": "code",
      "execution_count": null,
      "metadata": {
        "colab": {
          "base_uri": "https://localhost:8080/"
        },
        "id": "if4SpOoiIrXj",
        "outputId": "0acc91be-f1da-4a13-b77c-74ae62bbcdef"
      },
      "outputs": [
        {
          "output_type": "stream",
          "name": "stdout",
          "text": [
            "Drive already mounted at /content/drive; to attempt to forcibly remount, call drive.mount(\"/content/drive\", force_remount=True).\n",
            "1/1 [==============================] - 0s 128ms/step\n",
            "Prediction: Class 1 (Yes)\n"
          ]
        }
      ],
      "source": [
        "import tensorflow as tf\n",
        "from tensorflow.keras.preprocessing import image\n",
        "import numpy as np\n",
        "\n",
        "# Mount Google Drive if your model is stored there\n",
        "from google.colab import drive\n",
        "drive.mount('/content/drive')\n",
        "\n",
        "# Define the path to your saved model\n",
        "saved_model_path = '/content/drive/MyDrive/models/mri_model.h5'\n",
        "\n",
        "# Load the model\n",
        "loaded_model = tf.keras.models.load_model(saved_model_path)\n",
        "\n",
        "# Define the path to the image you want to predict\n",
        "image_path = '/content/drive/MyDrive/autism mri/Testing/autistic/Te-pi_0273.jpg'\n",
        "\n",
        "# Load and preprocess the image\n",
        "img = image.load_img(image_path, target_size=(150, 150))\n",
        "img_array = image.img_to_array(img)\n",
        "img_array = np.expand_dims(img_array, axis=0) / 255.0  # Normalize the pixel values\n",
        "\n",
        "# Make the prediction\n",
        "prediction = loaded_model.predict(img_array)\n",
        "\n",
        "# Interpret the prediction\n",
        "if prediction[0][0] < 0.5:\n",
        "    print(\"Prediction: Class 1 (Yes)\")\n",
        "else:\n",
        "    print(\"Prediction: Class 0 (No)\")\n"
      ]
    },
    {
      "cell_type": "code",
      "source": [
        "from google.colab import drive\n",
        "drive.mount('/content/drive')"
      ],
      "metadata": {
        "id": "SN1LfFPtc3-v",
        "colab": {
          "base_uri": "https://localhost:8080/"
        },
        "outputId": "59182e14-5644-4feb-bc03-9443f29c1fe7"
      },
      "execution_count": null,
      "outputs": [
        {
          "output_type": "stream",
          "name": "stdout",
          "text": [
            "Drive already mounted at /content/drive; to attempt to forcibly remount, call drive.mount(\"/content/drive\", force_remount=True).\n"
          ]
        }
      ]
    },
    {
      "cell_type": "code",
      "execution_count": null,
      "metadata": {
        "colab": {
          "base_uri": "https://localhost:8080/"
        },
        "id": "nAXj1ybcOg7c",
        "outputId": "7e1f9e14-93ff-4e15-e4ab-1bee34415396"
      },
      "outputs": [
        {
          "output_type": "stream",
          "name": "stdout",
          "text": [
            "Found 760 images belonging to 2 classes.\n",
            "760/760 [==============================] - 18s 24ms/step\n",
            "Accuracy: 0.5126731301939058\n",
            "\n",
            "Classification Report:\n",
            "              precision    recall  f1-score   support\n",
            "\n",
            "           0       0.99      0.98      0.99       320\n",
            "           1       0.99      0.99      0.99       440\n",
            "\n",
            "    accuracy                           0.99       760\n",
            "   macro avg       0.99      0.99      0.99       760\n",
            "weighted avg       0.99      0.99      0.99       760\n",
            "\n",
            "\n",
            "Confusion Matrix:\n",
            "[[315   5]\n",
            " [  4 436]]\n"
          ]
        }
      ],
      "source": [
        "\n",
        "import numpy as np\n",
        "from sklearn.metrics import classification_report, confusion_matrix\n",
        "\n",
        "# Load the validation data\n",
        "val_data_dir = '/content/drive/MyDrive/autism mri/Testing'\n",
        "val_datagen = ImageDataGenerator(rescale=1./255)\n",
        "val_generator = val_datagen.flow_from_directory(\n",
        "    val_data_dir,\n",
        "    target_size=(150, 150),\n",
        "    batch_size=1,  # Set batch size to 1 to ensure we get predictions for each sample\n",
        "    class_mode='binary',\n",
        "    shuffle=False  # Ensure that predictions match labels\n",
        ")\n",
        "\n",
        "# Make predictions for the validation set\n",
        "predictions = loaded_model.predict(val_generator)\n",
        "\n",
        "# Convert probabilities to class labels\n",
        "predicted_classes = np.where(predictions > 0.5, 1, 0)\n",
        "\n",
        "# Get true labels\n",
        "true_classes = val_generator.classes\n",
        "\n",
        "\n",
        "report = classification_report(true_classes, predicted_classes)\n",
        "conf_matrix = confusion_matrix(true_classes, predicted_classes)\n",
        "\n",
        "\n",
        "print(\"\\nClassification Report:\")\n",
        "print(report)\n",
        "print(\"\\nConfusion Matrix:\")\n",
        "print(conf_matrix)\n"
      ]
    },
    {
      "cell_type": "code",
      "execution_count": null,
      "metadata": {
        "id": "eZFMaeH4U5rN",
        "colab": {
          "base_uri": "https://localhost:8080/",
          "height": 540
        },
        "outputId": "5c22be12-71ec-485d-ac57-e3b9158f7cf0"
      },
      "outputs": [
        {
          "output_type": "display_data",
          "data": {
            "text/plain": [
              "<Figure size 800x600 with 1 Axes>"
            ],
            "image/png": "[encoded data removed]"
          },
          "metadata": {}
        }
      ],
      "source": [
        "import matplotlib.pyplot as plt\n",
        "import seaborn as sns\n",
        "\n",
        "# Plot confusion matrix\n",
        "plt.figure(figsize=(8, 6))\n",
        "sns.heatmap(conf_matrix, annot=True, fmt='d', cmap='Blues', cbar=False,xticklabels=False, yticklabels=False)\n",
        "plt.title('Confusion Matrix')\n",
        "plt.xlabel('Predicted Labels')\n",
        "plt.ylabel('True Labels')\n",
        "plt.show()\n"
      ]
    },
    {
      "cell_type": "code",
      "execution_count": null,
      "metadata": {
        "colab": {
          "base_uri": "https://localhost:8080/"
        },
        "id": "-xNaBJ8jW0iR",
        "outputId": "cfe8082d-c349-416b-abe7-11a0a3371ebd"
      },
      "outputs": [
        {
          "output_type": "stream",
          "name": "stdout",
          "text": [
            "760/760 [==============================] - 16s 20ms/step\n",
            "Testing Accuracy: 0.9882\n",
            "Precision: 0.9887\n",
            "Recall: 0.9909\n",
            "F1-score: 0.9898\n"
          ]
        }
      ],
      "source": [
        "import tensorflow as tf\n",
        "import numpy as np\n",
        "from sklearn.metrics import accuracy_score, precision_score, recall_score, f1_score\n",
        "\n",
        "# Load the saved model\n",
        "saved_model_path = '/content/drive/MyDrive/models/mri_model.h5'\n",
        "loaded_model = tf.keras.models.load_model(saved_model_path)\n",
        "\n",
        "# Make predictions on test data\n",
        "test_predictions = loaded_model.predict(test_generator)\n",
        "\n",
        "# Convert probabilities to binary labels\n",
        "test_pred_labels = np.where(test_predictions > 0.5, 1, 0)\n",
        "\n",
        "# Retrieve true labels from the generator\n",
        "true_labels = test_generator.classes\n",
        "\n",
        "# Calculate evaluation metrics\n",
        "testing_accuracy = accuracy_score(true_labels, test_pred_labels)\n",
        "precision = precision_score(true_labels, test_pred_labels)\n",
        "recall = recall_score(true_labels, test_pred_labels)\n",
        "f1 = f1_score(true_labels, test_pred_labels)\n",
        "\n",
        "print(f\"Testing Accuracy: {testing_accuracy:.4f}\")\n",
        "print(f\"Precision: {precision:.4f}\")\n",
        "print(f\"Recall: {recall:.4f}\")\n",
        "print(f\"F1-score: {f1:.4f}\")\n"
      ]
    },
    {
      "cell_type": "code",
      "source": [
        "print(loaded_model.summary())"
      ],
      "metadata": {
        "colab": {
          "base_uri": "https://localhost:8080/"
        },
        "id": "sjAKFArgC6S8",
        "outputId": "ea819ca4-9554-42be-c9b3-4f349abcb5e0"
      },
      "execution_count": null,
      "outputs": [
        {
          "output_type": "stream",
          "name": "stdout",
          "text": [
            "Model: \"sequential\"\n",
            "_________________________________________________________________\n",
            " Layer (type)                Output Shape              Param #   \n",
            "=================================================================\n",
            " conv2d (Conv2D)             (None, 148, 148, 32)      896       \n",
            "                                                                 \n",
            " max_pooling2d (MaxPooling2  (None, 74, 74, 32)        0         \n",
            " D)                                                              \n",
            "                                                                 \n",
            " conv2d_1 (Conv2D)           (None, 72, 72, 64)        18496     \n",
            "                                                                 \n",
            " max_pooling2d_1 (MaxPoolin  (None, 36, 36, 64)        0         \n",
            " g2D)                                                            \n",
            "                                                                 \n",
            " conv2d_2 (Conv2D)           (None, 34, 34, 128)       73856     \n",
            "                                                                 \n",
            " max_pooling2d_2 (MaxPoolin  (None, 17, 17, 128)       0         \n",
            " g2D)                                                            \n",
            "                                                                 \n",
            " flatten (Flatten)           (None, 36992)             0         \n",
            "                                                                 \n",
            " dense (Dense)               (None, 128)               4735104   \n",
            "                                                                 \n",
            " dense_1 (Dense)             (None, 1)                 129       \n",
            "                                                                 \n",
            "=================================================================\n",
            "Total params: 4828481 (18.42 MB)\n",
            "Trainable params: 4828481 (18.42 MB)\n",
            "Non-trainable params: 0 (0.00 Byte)\n",
            "_________________________________________________________________\n",
            "None\n"
          ]
        }
      ]
    }
  ],
  "metadata": {
    "accelerator": "GPU",
    "colab": {
      "gpuType": "T4",
      "provenance": [],
      "include_colab_link": true
    },
    "kernelspec": {
      "display_name": "Python 3",
      "name": "python3"
    },
    "language_info": {
      "name": "python"
    }
  },
  "nbformat": 4,
  "nbformat_minor": 0
}